{
 "cells": [
  {
   "cell_type": "markdown",
   "id": "cbf8917d-4387-4f6c-bf24-88d658d003e1",
   "metadata": {},
   "source": [
    "### Ist Query Part 1: For each Category display the Product Name which has second Highest Sale?"
   ]
  },
  {
   "cell_type": "code",
   "execution_count": 83,
   "id": "33b99e3b-0b8f-4e14-a27a-13b6658721b3",
   "metadata": {},
   "outputs": [
    {
     "name": "stdout",
     "output_type": "stream",
     "text": [
      "          Category                                       Product Name  \\\n",
      "0        Furniture  Riverside Palais Royal Lawyers Bookcase, Royal...   \n",
      "1  Office Supplies               Ibico EPK-21 Electric Binding System   \n",
      "2       Technology              Canon imageCLASS 2200 Advanced Copier   \n",
      "\n",
      "      Sales  \n",
      "0   4404.90  \n",
      "1   9449.95  \n",
      "2  17499.95  \n"
     ]
    }
   ],
   "source": [
    "import sqlite3\n",
    "\n",
    "# Create a connection to an in-memory SQLite database\n",
    "conn = sqlite3.connect(':memory:')\n",
    "\n",
    "# Load the DataFrame into SQLite\n",
    "df.to_sql('Orders', conn, index=False, if_exists='replace')\n",
    "\n",
    "# Run SQL queries for each Category display the Product Name which has second Highest Sale?\n",
    "query1 = '''\n",
    "    WITH RankedSales AS (\n",
    "    SELECT \n",
    "        \"Category\",\n",
    "        \"Product Name\",\n",
    "        \"Sales\",\n",
    "        RANK() OVER (PARTITION BY \"Category\" ORDER BY \"Sales\" DESC) AS sales_rank\n",
    "    FROM Orders\n",
    ")\n",
    "SELECT \n",
    "    \"Category\",\n",
    "    \"Product Name\",\n",
    "    \"Sales\"\n",
    "FROM RankedSales\n",
    "WHERE sales_rank = 2;\n",
    "'''\n",
    "\n",
    "result_df = pd.read_sql(query1, conn)\n",
    "\n",
    "# Display the result\n",
    "print(result_df)\n"
   ]
  },
  {
   "cell_type": "markdown",
   "id": "a4747e5a-c1b2-4736-ad62-9eab9052f174",
   "metadata": {},
   "source": [
    "### Ist Query Part 2: For each Sub-Category display the Product Name which has second Highest Sale?"
   ]
  },
  {
   "cell_type": "code",
   "execution_count": 85,
   "id": "5a984f2f-cd68-4bc3-b916-5143ccd55c3c",
   "metadata": {},
   "outputs": [
    {
     "name": "stdout",
     "output_type": "stream",
     "text": [
      "   Sub-Category                                       Product Name      Sales\n",
      "0   Accessories  Plantronics CS510 - Over-the-Head monaural Wir...   2309.650\n",
      "1    Appliances  Sanyo 2.5 Cubic Foot Mid-Size Office Refrigera...   2518.290\n",
      "2           Art  Boston Heavy-Duty Trimline Electric Pencil Sha...    385.600\n",
      "3       Binders               Ibico EPK-21 Electric Binding System   9449.950\n",
      "4     Bookcases  Riverside Palais Royal Lawyers Bookcase, Royal...   4228.704\n",
      "5        Chairs       HON 5400 Series Task Chairs for Big and Tall   3785.292\n",
      "6       Copiers              Canon imageCLASS 2200 Advanced Copier  13999.960\n",
      "7     Envelopes  Ames Color-File Green Diamond Border X-ray Mai...    419.900\n",
      "8     Fasteners          Alliance Super-Size Bands, Assorted Sizes     93.360\n",
      "9   Furnishings               Tenex Antistatic Computer Chair Mats   1196.860\n",
      "10       Labels  Dot Matrix Printer Tape Reel Labels, White, 50...    629.184\n",
      "11     Machines   3D Systems Cube Printer, 2nd Generation, Magenta   9099.930\n",
      "12        Paper                 Multicolor Computer Printout Paper    629.100\n",
      "13        Paper                                         Xerox 1915    629.100\n",
      "14        Paper                                         Xerox 1915    629.100\n",
      "15       Phones                            Samsung Galaxy Mega 6.3   4367.896\n",
      "16      Storage      Tennsco 16-Compartment Lockers with Coat Rack   2591.560\n",
      "17     Supplies        High Speed Automatic Electric Letter Opener   4912.590\n",
      "18       Tables         Bretford Rectangular Conference Table Tops   3610.848\n"
     ]
    }
   ],
   "source": [
    "# For each Sub-Category display the Product Name which has second Highest Sale?\n",
    "query2 = '''\n",
    "    WITH RankedSales AS (\n",
    "    SELECT \n",
    "        \"Sub-Category\",\n",
    "        \"Product Name\",\n",
    "        \"Sales\",\n",
    "        RANK() OVER (PARTITION BY \"Sub-Category\" ORDER BY \"Sales\" DESC) AS sales_rank\n",
    "    FROM Orders\n",
    ")\n",
    "SELECT \n",
    "    \"Sub-Category\",\n",
    "    \"Product Name\",\n",
    "    \"Sales\"\n",
    "FROM RankedSales\n",
    "WHERE sales_rank = 2;\n",
    "'''\n",
    "\n",
    "result_df = pd.read_sql(query2, conn)\n",
    "\n",
    "# Display the result\n",
    "print(result_df)\n"
   ]
  },
  {
   "cell_type": "markdown",
   "id": "53e2c49c-cb0d-4c8e-bfc0-1d60e6865b74",
   "metadata": {},
   "source": [
    "### II Query Part 1: For each Category find all the other product names except the product which has second highest sale."
   ]
  },
  {
   "cell_type": "code",
   "execution_count": 95,
   "id": "9590003c-8f5c-4142-ac0f-eaac0e2b6f8c",
   "metadata": {},
   "outputs": [
    {
     "name": "stdout",
     "output_type": "stream",
     "text": [
      "         Category                                       Product Name     Sales\n",
      "0       Furniture       HON 5400 Series Task Chairs for Big and Tall  4416.174\n",
      "1       Furniture  Chromcraft Bull-Nose Wood Oval Conference Tabl...  4297.644\n",
      "2       Furniture  Riverside Palais Royal Lawyers Bookcase, Royal...  4228.704\n",
      "3       Furniture              DMI Eclipse Executive Suite Bookcases  4007.840\n",
      "4       Furniture       HON 5400 Series Task Chairs for Big and Tall  3785.292\n",
      "...           ...                                                ...       ...\n",
      "10186  Technology             RCA Visys Integrated PBX 8-Line Router     2.210\n",
      "10187  Technology                          Maxell 4.7GB DVD+R 5/Pack     1.980\n",
      "10188  Technology                          Maxell 4.7GB DVD+R 5/Pack     1.980\n",
      "10189  Technology                          Maxell 4.7GB DVD-R 5/Pack     1.584\n",
      "10190  Technology                          Maxell 4.7GB DVD-R 5/Pack     0.990\n",
      "\n",
      "[10191 rows x 3 columns]\n"
     ]
    }
   ],
   "source": [
    "# For each Category find all the other product names except the product which has second highest sale.\n",
    "query3 = '''\n",
    "    WITH RankedSales AS (\n",
    "    SELECT \n",
    "        \"Category\",\n",
    "        \"Product Name\",\n",
    "        \"Sales\",\n",
    "        RANK() OVER (PARTITION BY \"Category\" ORDER BY \"Sales\" DESC) AS sales_rank\n",
    "    FROM Orders\n",
    ")\n",
    "SELECT \n",
    "    \"Category\",\n",
    "    \"Product Name\",\n",
    "    \"Sales\"\n",
    "FROM RankedSales\n",
    "WHERE sales_rank != 2;\n",
    "'''\n",
    "\n",
    "result_df = pd.read_sql(query3, conn)\n",
    "\n",
    "# Display the result\n",
    "print(result_df)"
   ]
  },
  {
   "cell_type": "markdown",
   "id": "0233e65f-36d1-4935-a2f3-be08277add03",
   "metadata": {},
   "source": [
    "### II Query Part 2: For each Sub-Category find all the other product names except the product which has second highest sale."
   ]
  },
  {
   "cell_type": "code",
   "execution_count": 97,
   "id": "1dd30f03-6c17-4aa0-813b-7103ecc14f97",
   "metadata": {},
   "outputs": [
    {
     "name": "stdout",
     "output_type": "stream",
     "text": [
      "      Sub-Category                                       Product Name  \\\n",
      "0      Accessories                 Logitech P710e Mobile Speakerphone   \n",
      "1      Accessories                      Logitech diNovo Edge Keyboard   \n",
      "2      Accessories                      Logitech diNovo Edge Keyboard   \n",
      "3      Accessories  Plantronics Savi W720 Multi-Device Wireless He...   \n",
      "4      Accessories  Plantronics CS510 - Over-the-Head monaural Wir...   \n",
      "...            ...                                                ...   \n",
      "10170       Tables                               KI Conference Tables   \n",
      "10171       Tables     Anderson Hickey Conga Table Tops & Accessories   \n",
      "10172       Tables     Anderson Hickey Conga Table Tops & Accessories   \n",
      "10173       Tables           Balt Split Level Computer Training Table   \n",
      "10174       Tables           Balt Split Level Computer Training Table   \n",
      "\n",
      "          Sales  \n",
      "0      3347.370  \n",
      "1      2249.910  \n",
      "2      2249.910  \n",
      "3      2025.360  \n",
      "4      1979.700  \n",
      "...         ...  \n",
      "10170    35.445  \n",
      "10171    27.414  \n",
      "10172    24.368  \n",
      "10173    19.600  \n",
      "10174     2.210  \n",
      "\n",
      "[10175 rows x 3 columns]\n"
     ]
    }
   ],
   "source": [
    "# For each Sub-Category find all the other product names except the product which has second highest sale.\n",
    "query3 = '''\n",
    "    WITH RankedSales AS (\n",
    "    SELECT \n",
    "        \"Sub-Category\",\n",
    "        \"Product Name\",\n",
    "        \"Sales\",\n",
    "        RANK() OVER (PARTITION BY \"Sub-Category\" ORDER BY \"Sales\" DESC) AS sales_rank\n",
    "    FROM Orders\n",
    ")\n",
    "SELECT \n",
    "    \"Sub-Category\",\n",
    "    \"Product Name\",\n",
    "    \"Sales\"\n",
    "FROM RankedSales\n",
    "WHERE sales_rank != 2;\n",
    "'''\n",
    "\n",
    "result_df = pd.read_sql(query3, conn)\n",
    "\n",
    "# Display the result\n",
    "print(result_df)\n"
   ]
  },
  {
   "cell_type": "markdown",
   "id": "326c89c8-eb12-4396-b361-594330a114bf",
   "metadata": {},
   "source": [
    "### III Query Part 1: Calculating the distribution of region percentages for each category based on the sales of products in that region."
   ]
  },
  {
   "cell_type": "code",
   "execution_count": 112,
   "id": "519ca92b-ae32-4e78-aa69-5010b190f896",
   "metadata": {},
   "outputs": [
    {
     "name": "stdout",
     "output_type": "stream",
     "text": [
      "           Category   Region  total_sales  region_percentage\n",
      "0         Furniture  Central  164537.6518          21.800350\n",
      "1         Furniture     East  212231.6960          28.119553\n",
      "2         Furniture    South  117298.6840          15.541442\n",
      "3         Furniture     West  260679.7295          34.538656\n",
      "4   Office Supplies  Central  168216.7090          22.983775\n",
      "5   Office Supplies     East  211658.4010          28.919297\n",
      "6   Office Supplies    South  125651.3130          17.167982\n",
      "7   Office Supplies     West  226366.8910          30.928946\n",
      "8        Technology  Central  170416.3120          20.290234\n",
      "9        Technology     East  267938.0710          31.901442\n",
      "10       Technology    South  148771.9080          17.713192\n",
      "11       Technology     West  252766.9880          30.095132\n"
     ]
    }
   ],
   "source": [
    "# For each Sub-Category find all the other product names except the product which has second highest sale.\n",
    "query4 = '''\n",
    "    WITH CategoryRegionSales AS (\n",
    "    SELECT\n",
    "        \"Category\",\n",
    "        \"Region\",\n",
    "        SUM(\"Sales\") AS total_sales\n",
    "    FROM Orders\n",
    "    GROUP BY \"Category\", \"Region\"\n",
    "),\n",
    "CategoryTotalSales AS (\n",
    "    SELECT\n",
    "        \"Category\",\n",
    "        SUM(\"Sales\") AS category_total_sales\n",
    "    FROM Orders\n",
    "    GROUP BY \"Category\"\n",
    ")\n",
    "SELECT \n",
    "    crs.\"Category\",\n",
    "    crs.\"Region\",\n",
    "    crs.total_sales,\n",
    "    (crs.total_sales / cts.category_total_sales) * 100 AS region_percentage\n",
    "FROM CategoryRegionSales crs\n",
    "JOIN CategoryTotalSales cts\n",
    "    ON crs.\"Category\" = cts.\"Category\"\n",
    "ORDER BY crs.\"Category\", crs.\"Region\";\n",
    "'''\n",
    "\n",
    "result_df = pd.read_sql(query4, conn)\n",
    "\n",
    "# Display the result\n",
    "print(result_df)\n"
   ]
  },
  {
   "cell_type": "markdown",
   "id": "4e2c77b9-5861-4b49-8981-74a013a38457",
   "metadata": {},
   "source": [
    "### III Query Part 2: Calculating the distribution of region percentages for each sub-category based on the sales of products in that region."
   ]
  },
  {
   "cell_type": "code",
   "execution_count": 117,
   "id": "e1e9199d-41e6-4973-b725-bb1e03415b9e",
   "metadata": {},
   "outputs": [
    {
     "name": "stdout",
     "output_type": "stream",
     "text": [
      "   Sub-Category   Region  total_sales  region_percentage\n",
      "0   Accessories  Central    33956.076          20.286779\n",
      "1   Accessories     East    45033.372          26.904819\n",
      "2   Accessories    South    27276.754          16.296273\n",
      "3   Accessories     West    61114.116          36.512128\n",
      "4    Appliances  Central    23582.033          21.792199\n",
      "..          ...      ...          ...                ...\n",
      "63     Supplies     West    18127.122          38.794925\n",
      "64       Tables  Central    39154.971          18.822679\n",
      "65       Tables     East    39926.147          19.193401\n",
      "66       Tables    South    43916.192          21.111505\n",
      "67       Tables     West    85022.872          40.872415\n",
      "\n",
      "[68 rows x 4 columns]\n"
     ]
    }
   ],
   "source": [
    "# For each Sub-Category find all the other product names except the product which has second highest sale.\n",
    "query5 = '''\n",
    "    WITH SubCategoryRegionSales AS (\n",
    "    SELECT\n",
    "        \"Sub-Category\",\n",
    "        \"Region\",\n",
    "        SUM(\"Sales\") AS total_sales\n",
    "    FROM Orders\n",
    "    GROUP BY \"Sub-Category\", \"Region\"\n",
    "),\n",
    "SubCategoryTotalSales AS (\n",
    "    SELECT\n",
    "        \"Sub-Category\",\n",
    "        SUM(\"Sales\") AS sub_category_total_sales\n",
    "    FROM Orders\n",
    "    GROUP BY \"Sub-Category\"\n",
    ")\n",
    "SELECT \n",
    "    crs.\"Sub-Category\",\n",
    "    crs.\"Region\",\n",
    "    crs.total_sales,\n",
    "    (crs.total_sales / cts.sub_category_total_sales) * 100 AS region_percentage\n",
    "FROM SubCategoryRegionSales crs\n",
    "JOIN SubCategoryTotalSales cts\n",
    "    ON crs.\"Sub-Category\" = cts.\"Sub-Category\"\n",
    "ORDER BY crs.\"Sub-Category\", crs.\"Region\";\n",
    "'''\n",
    "\n",
    "result_df = pd.read_sql(query5, conn)\n",
    "\n",
    "# Display the result\n",
    "print(result_df)"
   ]
  }
 ],
 "metadata": {
  "kernelspec": {
   "display_name": "Python 3 (ipykernel)",
   "language": "python",
   "name": "python3"
  },
  "language_info": {
   "codemirror_mode": {
    "name": "ipython",
    "version": 3
   },
   "file_extension": ".py",
   "mimetype": "text/x-python",
   "name": "python",
   "nbconvert_exporter": "python",
   "pygments_lexer": "ipython3",
   "version": "3.12.4"
  }
 },
 "nbformat": 4,
 "nbformat_minor": 5
}
